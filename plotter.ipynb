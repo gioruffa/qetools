{
 "cells": [
  {
   "cell_type": "code",
   "execution_count": 24,
   "metadata": {
    "collapsed": false
   },
   "outputs": [],
   "source": [
    "import pandas as pd\n",
    "import numpy as np\n",
    "import matplotlib.pyplot as plt\n",
    "import matplotlib.ticker as ticker\n",
    "from mpl_toolkits.mplot3d import Axes3D\n",
    "import datetime\n",
    "import json\n",
    "import itertools\n",
    "import glob\n",
    "import copy\n",
    "%matplotlib inline\n",
    "#%matplotlib qt4\n",
    "#plt.style.use('ggplot')"
   ]
  },
  {
   "cell_type": "code",
   "execution_count": 25,
   "metadata": {
    "collapsed": false
   },
   "outputs": [
    {
     "name": "stdout",
     "output_type": "stream",
     "text": [
      "The autoreload extension is already loaded. To reload it, use:\n",
      "  %reload_ext autoreload\n"
     ]
    }
   ],
   "source": [
    "%load_ext autoreload\n",
    "\n",
    "%aimport plot_tools\n",
    "\n",
    "%autoreload 1"
   ]
  },
  {
   "cell_type": "code",
   "execution_count": 26,
   "metadata": {
    "collapsed": false
   },
   "outputs": [],
   "source": [
    "from plot_tools import EspressoRun, Experiment, condenseFolder"
   ]
  },
  {
   "cell_type": "code",
   "execution_count": null,
   "metadata": {
    "collapsed": false
   },
   "outputs": [],
   "source": []
  },
  {
   "cell_type": "code",
   "execution_count": 27,
   "metadata": {
    "collapsed": false
   },
   "outputs": [],
   "source": [
    "#\n",
    "# SGI Co3\n",
    "#\n",
    "\n",
    "prefixFolder='/data/datiTesi/NUMA/Co304_bench/SGI/'\n",
    "OnePerNuma = EspressoRun(prefixFolder+'1rank/1perNUMA/try0/Co3O4-H2-conf1-scf.csv')\n",
    "OnePerNuma.computeParentPercent()\n",
    "TwoPerNuma = EspressoRun(prefixFolder+'2rank/2perNuma/try0/Co3O4-H2-conf1-scf.csv')\n",
    "TwoPerNuma.computeParentPercent()\n",
    "FourPerNuma = EspressoRun(prefixFolder+'4rank/4perNuma/try0/Co3O4-H2-conf1-scf.csv')\n",
    "FourPerNuma.computeParentPercent()\n",
    "EightPerNuma = EspressoRun(prefixFolder+'8rank/8perNuma/try0/Co3O4-H2-conf1-scf.csv')\n",
    "EightPerNuma.computeParentPercent()\n",
    "SixteenPerNuma = EspressoRun(prefixFolder+'16rank/16perNuma/try0/Co3O4-H2-conf1-scf.csv')\n",
    "SixteenPerNuma.computeParentPercent()\n",
    "ThirtytwoPerNuma = EspressoRun(prefixFolder+'32rank/32perNuma/try0/Co3O4-H2-conf1-scf.csv')\n",
    "ThirtytwoPerNuma.computeParentPercent()\n",
    "SixtyfourPerNuma = EspressoRun(prefixFolder+'64rank/64perNuma/try0/Co3O4-H2-conf1-scf.csv')\n",
    "SixtyfourPerNuma.computeParentPercent()\n",
    "\n",
    "numaProgression = Experiment()\n",
    "numaProgression.addRun(OnePerNuma)\n",
    "numaProgression.addRun(TwoPerNuma)\n",
    "numaProgression.addRun(FourPerNuma)\n",
    "numaProgression.addRun(EightPerNuma)\n",
    "numaProgression.addRun(SixteenPerNuma)\n",
    "numaProgression.addRun(ThirtytwoPerNuma)\n",
    "numaProgression.addRun(SixtyfourPerNuma)"
   ]
  },
  {
   "cell_type": "code",
   "execution_count": 28,
   "metadata": {
    "collapsed": false,
    "scrolled": true
   },
   "outputs": [],
   "source": [
    "#\n",
    "# CINACA Co3\n",
    "#\n",
    "experiment8 = EspressoRun('/home/giorgio_ruffa/Tesi/qetools/samples/Co304-H2/CINECA/Co3O4-H2-conf1-scf_1_8_8_2.csv')\n",
    "experiment8.computeParentPercent()\n",
    "\n",
    "experiment16 = EspressoRun('/home/giorgio_ruffa/Tesi/qetools/samples/Co304-H2/CINECA/Co3O4-H2-conf1-scf_1_16_16.csv')\n",
    "experiment16.computeParentPercent()\n",
    "\n",
    "\n",
    "experiment1 = EspressoRun('/home/giorgio_ruffa/Tesi/qetools/samples/Co304-H2/CINECA/Co3O4-H2-conf1-scf_1_1_1_2.csv')\n",
    "experiment1.computeParentPercent()\n",
    "experiment4 = EspressoRun('/home/giorgio_ruffa/Tesi/qetools/samples/Co304-H2/CINECA/Co3O4-H2-conf1-scf_1_4_4_2.csv')\n",
    "experiment4.computeParentPercent()\n",
    "experiment2 = EspressoRun('/home/giorgio_ruffa/Tesi/qetools/samples/Co304-H2/CINECA/Co3O4-H2-conf1-scf_1_2_2_2.csv')\n",
    "experiment2.computeParentPercent()\n",
    "experiment32 = EspressoRun('/home/giorgio_ruffa/Tesi/qetools/samples/Co304-H2/CINECA/Co3O4-H2-conf1-scf_2_16_16.csv')\n",
    "experiment32.computeParentPercent()\n",
    "experiment32_2 = EspressoRun('/home/giorgio_ruffa/Tesi/qetools/samples/Co304-H2/CINECA/Co3O4-H2-conf1-scf_2_16_16_2.csv')\n",
    "experiment32_2.computeParentPercent()\n",
    "experiment64 = EspressoRun('/home/giorgio_ruffa/Tesi/qetools/samples/Co304-H2/CINECA/Co3O4-H2-conf1-scf_4_16_16.csv')\n",
    "experiment64.computeParentPercent()\n",
    "experiment64_2 = EspressoRun('/home/giorgio_ruffa/Tesi/qetools/samples/Co304-H2/CINECA/Co3O4-H2-conf1-scf_4_16_16_2.csv')\n",
    "experiment64_2.computeParentPercent()\n",
    "\n",
    "\n",
    "xp = Experiment()\n",
    "xp.addRun(experiment64)\n",
    "xp.addRun(experiment32)\n",
    "xp.addRun(experiment16)\n",
    "xp.addRun(experiment8)\n",
    "xp.addRun(experiment4)\n",
    "xp.addRun(experiment2)\n",
    "xp.addRun(experiment1)\n"
   ]
  },
  {
   "cell_type": "code",
   "execution_count": 29,
   "metadata": {
    "collapsed": false
   },
   "outputs": [],
   "source": [
    "#\n",
    "# SGI AUSURF\n",
    "#\n",
    "\n",
    "ausurfPrefix='/data/datiTesi/NUMA/AUSURF112_bench/SGI/'\n",
    "ausurfNuma = Experiment()\n",
    "\n",
    "ausurfNuma1=EspressoRun(ausurfPrefix+'1rank/1perNUMA/try0/ausurf.csv')\n",
    "ausurfNuma2=EspressoRun(ausurfPrefix+'2rank/2perNUMA/try0/ausurf.csv')\n",
    "ausurfNuma4=EspressoRun(ausurfPrefix+'4rank/4perNUMA/try0/ausurf.csv')\n",
    "ausurfNuma8=EspressoRun(ausurfPrefix+'8rank/8perNUMA/try0/ausurf.csv')\n",
    "ausurfNuma16=EspressoRun(ausurfPrefix+'16rank/16perNUMA/try0/ausurf.csv')\n",
    "ausurfNuma32=EspressoRun(ausurfPrefix+'32rank/32perNUMA/try0/ausurf.csv')\n",
    "ausurfNuma64=EspressoRun(ausurfPrefix+'64rank/64perNUMA/try0/ausurf.csv')\n",
    "\n",
    "\n",
    "\n",
    "ausurfNuma.addRun(ausurfNuma1)\n",
    "ausurfNuma.addRun(ausurfNuma2)\n",
    "ausurfNuma.addRun(ausurfNuma4)\n",
    "ausurfNuma.addRun(ausurfNuma8)\n",
    "ausurfNuma.addRun(ausurfNuma16)\n",
    "ausurfNuma.addRun(ausurfNuma32)\n",
    "ausurfNuma.addRun(ausurfNuma64)\n"
   ]
  },
  {
   "cell_type": "code",
   "execution_count": 30,
   "metadata": {
    "collapsed": false
   },
   "outputs": [],
   "source": [
    "#\n",
    "# CINECA AUSURF112\n",
    "#\n",
    "\n",
    "ausurfCinecaPrefix='/data/datiTesi/CINECA/AUSURF112/CINECA/'\n",
    "ausurfCineca = Experiment()\n",
    "\n",
    "ausurfCineca1=EspressoRun(ausurfCinecaPrefix+'/1_1_1/try0/ausurf.csv')\n",
    "ausurfCineca2=EspressoRun(ausurfCinecaPrefix+'/1_2_2/try0/ausurf.csv')\n",
    "ausurfCineca4=EspressoRun(ausurfCinecaPrefix+'/1_4_4/try0/ausurf.csv')\n",
    "ausurfCineca8=EspressoRun(ausurfCinecaPrefix+'/1_8_8/try0/ausurf.csv')\n",
    "ausurfCineca16=EspressoRun(ausurfCinecaPrefix+'/1_16_16/try0/ausurf.csv')\n",
    "ausurfCineca32=EspressoRun(ausurfCinecaPrefix+'/2_16_16/try0/ausurf.csv')\n",
    "ausurfCineca64=EspressoRun(ausurfCinecaPrefix+'/4_16_16/try0/ausurf.csv')\n",
    "\n",
    "ausurfCineca.addRun(ausurfCineca1)\n",
    "ausurfCineca.addRun(ausurfCineca2)\n",
    "ausurfCineca.addRun(ausurfCineca4)\n",
    "ausurfCineca.addRun(ausurfCineca8)\n",
    "ausurfCineca.addRun(ausurfCineca16)\n",
    "ausurfCineca.addRun(ausurfCineca32)\n",
    "ausurfCineca.addRun(ausurfCineca64)"
   ]
  },
  {
   "cell_type": "code",
   "execution_count": 53,
   "metadata": {
    "collapsed": false
   },
   "outputs": [
    {
     "data": {
      "text/plain": [
       "<matplotlib.axes._subplots.AxesSubplot at 0x7fa7729d8910>"
      ]
     },
     "execution_count": 53,
     "metadata": {},
     "output_type": "execute_result"
    },
    {
     "data": {
      "image/png": "[encoded data removed]",
      "text/plain": [
       "<matplotlib.figure.Figure at 0x7fa7729cc610>"
      ]
     },
     "metadata": {},
     "output_type": "display_data"
    }
   ],
   "source": [
    "#\n",
    "# SGI TiOH2\n",
    "#\n",
    "prefix='/data/datiTesi/NUMA/TiOH2_bench/SGI/'\n",
    "tio1 = condenseFolder(prefix+'1rank/1perNuma','titania2.csv')\n",
    "tio2 = condenseFolder(prefix+'2rank/2perNuma','titania2.csv')\n",
    "tio4 = condenseFolder(prefix+'4rank/4perNuma','titania2.csv')\n",
    "tio8 = EspressoRun(prefix+'8rank/8perNuma/try0/titania2.csv')\n",
    "tio16= EspressoRun(prefix+'16rank/16perNuma/try0/titania2.csv')\n",
    "tio32= EspressoRun(prefix+'32rank/32perNuma/try0/titania2.csv')\n",
    "tio64= EspressoRun(prefix+'64rank/64perNuma/try1/titania2.csv')\n",
    "\n",
    "tioSgi = Experiment()\n",
    "tioSgi.addRun(tio1)\n",
    "tioSgi.addRun(tio2)\n",
    "tioSgi.addRun(tio4)\n",
    "tioSgi.addRun(tio8)\n",
    "tioSgi.addRun(tio16)\n",
    "tioSgi.addRun(tio32)\n",
    "tioSgi.addRun(tio64)\n",
    "\n",
    "#tio16.header\n",
    "#tioSgi.plotHeaderAttribute(attributeName='initCpuTime',orderBy='totCores')\n",
    "#tioSgi.plotFunction(functions=['PWSCF'])\n",
    "#tio1.plotIterationStats(fig=plt.figure(figsize=(15,10)))\n",
    "#tioSgi.plotIterationStats()\n",
    "\n",
    "len(tio1.header['iterations'])\n",
    "\n",
    "\n",
    "runLengths = map(lambda x : len(x.header['iterations']) , tioSgi.runs )\n",
    "min_iters = min(map(lambda x : len(x.header['iterations']) , tioSgi.runs ))\n",
    "last_iter = map(lambda x : x.header['iterations'][min_iters -1], tioSgi.runs)\n",
    "totCores = map(lambda x : x.header['totCores'], tioSgi.runs)\n",
    "\n",
    "\n",
    "cpuTimes = [x['endCpuTime'] for x in last_iter]\n",
    "\n",
    "toPlot = [cpuTimes[0]/(x * 1.) for x in cpuTimes]\n",
    "\n",
    "\n",
    "\n",
    "#plt.plot(totCores,toPlot)\n",
    "#realTime = float(tio32.df[tio1.df.name == 'PWSCF']['cpuTime'])\n",
    "#lastIterTime = 1000.* tio32.header['iterations'][min_iters - 1 ]['endCpuTime']\n",
    "#ratio = (1. * lastIterTime / realTime)\n",
    "#(realTime,lastIterTime,ratio)\n",
    "\n",
    "#print tioSgi.getRescaleRatios()\n",
    "\n",
    "\n",
    "tioSgiRescaled = tioSgi.rescale()\n",
    "\n",
    "tioSgi.getIterationDF()[['mean','std']].plot()\n",
    "\n",
    "#tioSgi.plotIterationStats()"
   ]
  },
  {
   "cell_type": "code",
   "execution_count": null,
   "metadata": {
    "collapsed": false
   },
   "outputs": [],
   "source": [
    "#\n",
    "# CINECA TIOH2\n",
    "#\n",
    "\n",
    "prefix = '/data/datiTesi/CINECA/TIOH2'\n",
    "cinTio1 = EspressoRun(prefix+'/1_1_1/try0/titania2.csv')\n",
    "cinTio2 = EspressoRun(prefix+'/1_2_2/try0/titania2.csv')\n",
    "cinTio4 = EspressoRun(prefix+'/1_4_4/try0/titania2.csv')\n",
    "cinTio8 = EspressoRun(prefix+'/1_8_8/try0/titania2.csv')\n",
    "cinTio16 = EspressoRun(prefix+'/1_16_16/try0/titania2.csv')\n",
    "cinTio32 = EspressoRun(prefix+'/2_16_16/try0/titania2.csv')\n",
    "cinTio64 = EspressoRun(prefix+'/4_16_16/try0/titania2.csv')\n",
    "\n",
    "cinTioExp = Experiment()\n",
    "\n",
    "cinTioExp.addRun(cinTio1)\n",
    "cinTioExp.addRun(cinTio2)\n",
    "cinTioExp.addRun(cinTio4)\n",
    "cinTioExp.addRun(cinTio8)\n",
    "cinTioExp.addRun(cinTio16)\n",
    "cinTioExp.addRun(cinTio32)\n",
    "cinTioExp.addRun(cinTio64)\n",
    "\n",
    "cinTioExpRescaled = cinTioExp.rescale()\n"
   ]
  },
  {
   "cell_type": "code",
   "execution_count": null,
   "metadata": {
    "collapsed": false
   },
   "outputs": [],
   "source": [
    "cinTio64.df[cinTio64.df.name == 'PWSCF'].wallTime/1000/60"
   ]
  },
  {
   "cell_type": "code",
   "execution_count": null,
   "metadata": {
    "collapsed": false
   },
   "outputs": [],
   "source": [
    "fig = plt.figure(figsize=(15,10))\n",
    "ax2 = plt.subplot(111)\n",
    "tioSgi.plotFunction(speedup=True,functions=['PWSCF'],labels=['TioSGI'], figure=fig,axes=ax2,title='Co3O4-H2')\n",
    "tioSgiRescaled.plotFunction(speedup=True,functions=['PWSCF'],labels=['TioSGIrescaled'] ,figure=fig,axes=ax2,title='Co3O4-H2')\n",
    "\n",
    "\n",
    "cinTioExp.plotFunction(speedup=True,functions=['PWSCF'],labels=['TioCINECA'], figure=fig,axes=ax2,title='Co3O4-H2')\n",
    "cinTioExpRescaled.plotFunction(speedup=True,functions=['PWSCF'],labels=['TioCINECArescaled'] ,figure=fig,axes=ax2,title='Co3O4-H2')\n",
    "\n",
    "ax2.plot([0,64],[0,64],'--k',label='asd')\n",
    "plt.ylim(0,30)"
   ]
  },
  {
   "cell_type": "code",
   "execution_count": null,
   "metadata": {
    "collapsed": false
   },
   "outputs": [],
   "source": [
    "cinTioExp.plotFunction(functions=cinTioExp.slowFunctions())"
   ]
  },
  {
   "cell_type": "code",
   "execution_count": null,
   "metadata": {
    "collapsed": true
   },
   "outputs": [],
   "source": []
  },
  {
   "cell_type": "code",
   "execution_count": null,
   "metadata": {
    "collapsed": false
   },
   "outputs": [],
   "source": [
    "#\n",
    "# SGI TiOH2 OPENMP (Threads)\n",
    "#\n",
    "prefix='/data/datiTesi/NUMA/TiOH2_bench/OPENMP/'\n",
    "# tio4_4_MP = EspressoRun(prefix+'4rank/4threads/try0/titania2.csv');\n",
    "# tio4_4_MP = EspressoRun(prefix+'4rank/4threads/try0/titania2.csv');\n",
    "\n",
    "# METTI LA NORMALIZZAZIONE A TRUE INVECE DI PLOTTARE IL WALLTIME!\n",
    "\n",
    "\n",
    "# tio4_2_MP.df.cpuTime =  tio4_2_MP.df.cpuTime /tio4_2_MP.header[\"threadsPerMPI\"]\n",
    "tio4_2_MP = EspressoRun(prefix+'4rank/2threads/try0/titania2.csv');\n",
    "tio4_4_MP = EspressoRun(prefix+'4rank/4threads/try0/titania2.csv');\n",
    "\n",
    "tio4_SGI_MP = Experiment()\n",
    "tio4_SGI_MP.addRun(tio4)\n",
    "tio4_SGI_MP.addRun(tio4_2_MP)\n",
    "tio4_SGI_MP.addRun(tio4_4_MP)\n",
    "\n",
    "\n",
    "\n",
    "\n",
    "tio8_2_MP = EspressoRun(prefix+'8rank/2threads/try0/titania2.csv');\n",
    "tio8_4_MP = EspressoRun(prefix+'8rank/4threads/try0/titania2.csv');\n",
    "tio8_8_MP = EspressoRun(prefix+'8rank/8threads/try0/titania2.csv');\n",
    "\n",
    "tio8_SGI_MP = Experiment()\n",
    "tio8_SGI_MP.addRun(tio8)\n",
    "tio8_SGI_MP.addRun(tio8_2_MP)\n",
    "tio8_SGI_MP.addRun(tio8_4_MP)\n",
    "tio8_SGI_MP.addRun(tio8_8_MP)\n",
    "\n",
    "\n",
    "\n",
    "tio16_2_MP = EspressoRun(prefix+'16rank/2threads/try0/titania2.csv');\n",
    "tio16_4_MP = EspressoRun(prefix+'16rank/4threads/try0/titania2.csv');\n",
    "tio16_8_MP = EspressoRun(prefix+'16rank/8threads/try0/titania2.csv');\n",
    "\n",
    "tio16_SGI_MP = Experiment()\n",
    "tio16_SGI_MP.addRun(tio16)\n",
    "tio16_SGI_MP.addRun(tio16_2_MP)\n",
    "tio16_SGI_MP.addRun(tio16_4_MP)\n",
    "tio16_SGI_MP.addRun(tio16_8_MP)\n",
    "\n",
    "tio32_2_MP = EspressoRun(prefix+'32rank/2threads/try0/titania2.csv');\n",
    "tio32_4_MP = EspressoRun(prefix+'32rank/4threads/try0/titania2.csv');\n",
    "tio32_8_MP = EspressoRun(prefix+'32rank/8threads/try0/titania2.csv');\n",
    "\n",
    "tio32_SGI_MP = Experiment()\n",
    "tio32_SGI_MP.addRun(tio32)\n",
    "tio32_SGI_MP.addRun(tio32_2_MP)\n",
    "tio32_SGI_MP.addRun(tio32_4_MP)\n",
    "tio32_SGI_MP.addRun(tio32_8_MP)\n",
    "\n",
    "tio64_2_MP = EspressoRun(prefix+'64rank/2threads/try0/titania2.csv');\n",
    "tio64_4_MP = EspressoRun(prefix+'64rank/4threads/try0/titania2.csv');\n",
    "tio64_8_MP = EspressoRun(prefix+'64rank/8threads/try0/titania2.csv');\n",
    "\n",
    "tio64_SGI_MP = Experiment()\n",
    "tio64_SGI_MP.addRun(tio64)\n",
    "tio64_SGI_MP.addRun(tio64_2_MP)\n",
    "tio64_SGI_MP.addRun(tio64_4_MP)\n",
    "tio64_SGI_MP.addRun(tio64_8_MP)\n"
   ]
  },
  {
   "cell_type": "code",
   "execution_count": null,
   "metadata": {
    "collapsed": false
   },
   "outputs": [],
   "source": [
    "tio32_SGI_MP.plotIterationStats();"
   ]
  },
  {
   "cell_type": "code",
   "execution_count": null,
   "metadata": {
    "collapsed": false
   },
   "outputs": [],
   "source": [
    "tio64_SGI_MP.plotFunction(orderBy=\"threadsPerMPI\",metric='wallTime',labels=[\"64\"])\n",
    "\n",
    "tio64_SGI_MP.plotHeaderAttribute()\n",
    "\n",
    "tio32_SGI_MP.plotFunction(orderBy=\"threadsPerMPI\",metric='wallTime',labels=[\"32\"])\n",
    "\n",
    "tio32_SGI_MP.plotHeaderAttribute()\n",
    "\n",
    "tio16_SGI_MP.plotFunction(orderBy=\"threadsPerMPI\",metric='wallTime',labels=[\"16\"])\n",
    "\n",
    "tio16_SGI_MP.plotHeaderAttribute()\n",
    "\n",
    "tio8_SGI_MP.plotFunction(orderBy=\"threadsPerMPI\",metric='wallTime',labels=[\"8\"])\n",
    "\n",
    "tio8_SGI_MP.plotHeaderAttribute()\n",
    "\n",
    "tio4_SGI_MP.plotFunction(orderBy=\"threadsPerMPI\",metric='wallTime',labels=[\"4\"])\n",
    "\n",
    "tio4_SGI_MP.plotHeaderAttribute()\n",
    "\n",
    "\n",
    "# tio64_2_MP.df.cpuTime =  tio64_2_MP.df.cpuTime /tio64_2_MP.header[\"threadsPerMPI\"]\n",
    "#tio64_2_MP.getGlobalStackedPlot()\n",
    "\n",
    "tio_MP_GoodRun = Experiment();\n",
    "\n",
    "\n",
    "tio_MP_GoodRun.addRun(tio1) #for speedup\n",
    "tio_MP_GoodRun.addRun(tio2) #filler speedup\n",
    "tio_MP_GoodRun.addRun(tio4_4_MP)\n",
    "tio_MP_GoodRun.addRun(tio8_8_MP)\n",
    "tio_MP_GoodRun.addRun(tio16_8_MP)\n",
    "#tio_MP_GoodRun.addRun(tio32_8_MP)\n",
    "#LA RUN A 32 CORE THREADDATA E' PIU LENTA DI QUELLA SENZA I THREADS\n",
    "#BELLA STORIA EH\n",
    "tio_MP_GoodRun.addRun(tio32)\n",
    "tio_MP_GoodRun.addRun(tio64_2_MP)\n",
    "\n",
    "tio_MP_GoodRun.plotFunction(speedup=True,metric='wallTime')"
   ]
  },
  {
   "cell_type": "markdown",
   "metadata": {
    "collapsed": true
   },
   "source": [
    "Sopra ho messo anche le run a singolo thread (1 core per MPI) in modo da vedere se conviene sempre treddare"
   ]
  },
  {
   "cell_type": "code",
   "execution_count": null,
   "metadata": {
    "collapsed": true
   },
   "outputs": [],
   "source": []
  },
  {
   "cell_type": "code",
   "execution_count": null,
   "metadata": {
    "collapsed": false
   },
   "outputs": [],
   "source": [
    "#tioSgi.plotFunction(functions=tioSgi.slowFunctions())\n",
    "#asd = plt.Figure()\n",
    "tioSgi.plotFunction(functions=['PWSCF'])\n",
    "tioSgi.plotFunction(functions=tioSgi.slowFunctions())"
   ]
  },
  {
   "cell_type": "code",
   "execution_count": null,
   "metadata": {
    "collapsed": true
   },
   "outputs": [],
   "source": []
  },
  {
   "cell_type": "code",
   "execution_count": null,
   "metadata": {
    "collapsed": false
   },
   "outputs": [],
   "source": [
    "#CINECA Co3 \n",
    "\n",
    "fig = plt.figure(figsize=(15,10))\n",
    "ax = plt.subplot(111)\n",
    "\n",
    "\n",
    "#plt.ylim(0,100000)\n",
    "xp.plotFunction(functions=list(experiment16.df.name.values),figure=fig,axes=ax,ylog=True)\n",
    "\n",
    "fig = plt.figure(figsize=(15,10))\n",
    "#plt.ylim(0,100000)\n",
    "#xp.plotFunction(functions=xp.slowFunctions(),figure=fig,ylog=True)\n",
    "xp.plotFunction(functions=['fft_scatter'],figure=fig)\n",
    "#xp.plotFunction(functions=experiment1.df.Parent.unique(), figure=fig)\n",
    "# experiment1.df.Parent.unique().value()\n",
    "\n",
    "fig = plt.figure()#figsize=(15,10))\n",
    "xp.plotFunction(functions=['PWSCF'],figure=fig,ylog=True)\n",
    "\n",
    "    "
   ]
  },
  {
   "cell_type": "code",
   "execution_count": null,
   "metadata": {
    "collapsed": false
   },
   "outputs": [],
   "source": [
    "#SGI Co3\n",
    "\n",
    "numaProgression.plotFunction(functions=['PWSCF'],ylog=True)\n",
    "\n",
    "fig = plt.figure(figsize=(15,10))\n",
    "ax = plt.subplot(111)\n",
    "\n",
    "numaProgression.plotFunction(functions=list(SixteenPerNuma.df.name.values),figure=fig,axes=ax,ylog=True)\n",
    "plt.savefig('/tmp/asd.png')\n",
    "\n",
    "fig = plt.figure()#figsize=(15,10))\n",
    "#numaProgression.plotFunction(functions=numaProgression.slowFunctions(),figure=fig,ylog=True)\n",
    "numaProgression.plotFunction(functions=['fft_scatter'],figure=fig)"
   ]
  },
  {
   "cell_type": "code",
   "execution_count": null,
   "metadata": {
    "collapsed": false
   },
   "outputs": [],
   "source": [
    "#SGI Ausurf112\n",
    "\n",
    "fig = plt.figure(figsize=(10,10))\n",
    "ausurfNuma.plotFunction(speedup=False,functions=ausurfNuma64.df.name.unique(),figure=fig,ylog=True)\n",
    "\n",
    "fig2 = plt.figure(figsize=(10,10))\n",
    "ausurfNuma.plotFunction(functions=ausurfNuma.slowFunctions()+['fft_scatter'],figure=fig2,ylog=False)\n"
   ]
  },
  {
   "cell_type": "code",
   "execution_count": null,
   "metadata": {
    "collapsed": false
   },
   "outputs": [],
   "source": [
    "#comparation\n",
    "\n",
    "fig = plt.figure(figsize=(18,5))\n",
    "ax1 = plt.subplot(1,2,1)\n",
    "ausurfNuma.plotFunction(speedup=True,functions=['PWSCF'],  figure=fig,axes=ax1,title='SGI ausurf112')\n",
    "ax2 = plt.subplot(1,2,2)\n",
    "numaProgression.plotFunction(speedup=True,functions=['PWSCF'],labels=['c03 SGI'], figure=fig,axes=ax2,title='Co3O4-H2')\n",
    "xp.plotFunction(speedup=True,functions=['PWSCF'],labels=['Co3 CINECA'] ,figure=fig,axes=ax2,title='Co3O4-H2')\n",
    "ausurfNuma.plotFunction(speedup=True,functions=['PWSCF'], labels=['AUSURF SGI'],figure=fig,axes=ax2,title='COMPARISON')\n",
    "ausurfCineca.plotFunction(speedup=True,functions=['PWSCF'], labels=['AUSURF CINECA'],figure=fig,axes=ax2,title='COMPARISON')"
   ]
  },
  {
   "cell_type": "code",
   "execution_count": null,
   "metadata": {
    "collapsed": false,
    "scrolled": false
   },
   "outputs": [],
   "source": [
    "fig = plt.figure(figsize=(33,6))\n",
    "ax2 = plt.subplot(111)\n",
    "numaProgression.plotFunction(speedup=True,functions=['PWSCF'],labels=['Co3 SGI'], figure=fig,axes=ax2,title='Co3O4-H2')\n",
    "xp.plotFunction(speedup=True,functions=['PWSCF'],labels=['Co3 CINECA'] ,figure=fig,axes=ax2,title='Co3O4-H2')\n",
    "ausurfCineca.plotFunction(speedup=True,functions=['PWSCF'], labels=['AUSURF CINECA'],figure=fig,axes=ax2,title='COMPARISON')\n",
    "ausurfNuma.plotFunction(speedup=True,functions=['PWSCF'], labels=['AUSURF SGI'],figure=fig,axes=ax2,title='Speedup Comparison')\n",
    "\n",
    "cinTioExp.plotFunction(speedup=True,functions=['PWSCF'], labels=['TiOH2 CINECA'],figure=fig,axes=ax2,title='Speedup Comparison')\n",
    "\n",
    "tioSgi.plotFunction(speedup=True,functions=['PWSCF'], labels=['TiOH2 SGI'],figure=fig,axes=ax2,title='Speedup Comparison')\n",
    "tio_MP_GoodRun.plotFunction(metric=\"wallTime\",speedup=True,functions=['PWSCF'], labels=['TiOH2 SGI OMP TUNED'],figure=fig,axes=ax2,title='Speedup Comparison')\n",
    "ax2.plot([0,64],[0,64],'--k',label='asd')\n",
    "plt.ylim(0,30)"
   ]
  },
  {
   "cell_type": "code",
   "execution_count": null,
   "metadata": {
    "collapsed": true
   },
   "outputs": [],
   "source": []
  },
  {
   "cell_type": "markdown",
   "metadata": {},
   "source": [
    "METTI ANCHE LA COMPARAZIONE CON L'INVERSIONE SERIALE SUI CORE PICCOLI!\n",
    "\n",
    "Comparison tra la run con openMP tunato (prendendo i risultati migliori per ogni scelta di numero di threads/processo MPI) e run senza il tuning"
   ]
  },
  {
   "cell_type": "code",
   "execution_count": null,
   "metadata": {
    "collapsed": false
   },
   "outputs": [],
   "source": [
    "fig = plt.figure(figsize=(10,6))\n",
    "ax2 = plt.subplot(111)\n",
    "tioSgi.plotFunction(metric=\"wallTime\",functions=['PWSCF'], labels=['TiOH2 SGI'],figure=fig,axes=ax2,title='Speedup Comparison')\n",
    "tio_MP_GoodRun.plotFunction(metric=\"wallTime\",functions=['PWSCF'], labels=['TiOH2 SGI OMP TUNED'],figure=fig,axes=ax2,title='Speedup Comparison')\n",
    "# ax2.plot([0,64],[0,64],'--k',label='asd')\n",
    "# plt.ylim(0,30)\n"
   ]
  },
  {
   "cell_type": "code",
   "execution_count": null,
   "metadata": {
    "collapsed": false
   },
   "outputs": [],
   "source": [
    "tio_MP_GoodRun.plotFunction(metric='wallTime',functions=tio_MP_GoodRun.slowFunctions(metric='wallTime'),ylog=True)"
   ]
  },
  {
   "cell_type": "code",
   "execution_count": null,
   "metadata": {
    "collapsed": true
   },
   "outputs": [],
   "source": [
    "\n",
    "\n",
    "\n",
    "\n",
    "\n"
   ]
  },
  {
   "cell_type": "code",
   "execution_count": null,
   "metadata": {
    "collapsed": false
   },
   "outputs": [],
   "source": [
    "#stress tests on Co3 SGI\n",
    "#1rank 1perNode\n",
    "prefix='/data/datiTesi/NUMA/Co304_bench/SGI/1rank/1perNode/'\n",
    "csvFileName='Co3O4-H2-conf1-scf.csv'\n",
    "rank1_1perNode = condenseFolder(prefix,csvFileName,extraHeaderField=('perNode',1))\n",
    "\n",
    "prefix='/data/datiTesi/NUMA/Co304_bench/SGI/1rank/2perNode/'\n",
    "rank1_2perNode = condenseFolder(prefix,csvFileName,extraHeaderField=('perNode',2))\n",
    "\n",
    "prefix='/data/datiTesi/NUMA/Co304_bench/SGI/1rank/4perNode/'\n",
    "rank1_4perNode = condenseFolder(prefix,csvFileName,extraHeaderField=('perNode',4))\n",
    "\n",
    "prefix='/data/datiTesi/NUMA/Co304_bench/SGI/1rank/8perNode/'\n",
    "rank1_8perNode = condenseFolder(prefix,csvFileName,extraHeaderField=('perNode',8))\n",
    "\n",
    "rank1Co3=Experiment()\n",
    "rank1Co3.addRun(rank1_1perNode)\n",
    "rank1Co3.addRun(rank1_2perNode)\n",
    "rank1Co3.addRun(rank1_4perNode)\n",
    "rank1Co3.addRun(rank1_8perNode)\n"
   ]
  },
  {
   "cell_type": "code",
   "execution_count": null,
   "metadata": {
    "collapsed": false
   },
   "outputs": [],
   "source": [
    "rank1Co3.plotFunction(functions=['PWSCF'],orderBy='perNode', title='SGI Co3 1rank')"
   ]
  },
  {
   "cell_type": "code",
   "execution_count": null,
   "metadata": {
    "collapsed": false
   },
   "outputs": [],
   "source": [
    "#stress test 1rank ausurf\n",
    "prefix='/data/datiTesi/NUMA/AUSURF112_bench/SGI/1rank/1perNode'\n",
    "auRank1_1perNode = condenseFolder(prefix,'ausurf.csv',('perNode',1))\n",
    "\n",
    "prefix='/data/datiTesi/NUMA/AUSURF112_bench/SGI/1rank/2perNode'\n",
    "auRank1_2perNode = condenseFolder(prefix,'ausurf.csv',('perNode',2))\n",
    "\n",
    "prefix='/data/datiTesi/NUMA/AUSURF112_bench/SGI/1rank/4perNode'\n",
    "auRank1_4perNode = condenseFolder(prefix,'ausurf.csv',('perNode',4))\n",
    "\n",
    "rank1Au = Experiment()\n",
    "rank1Au.addRun(auRank1_1perNode)\n",
    "rank1Au.addRun(auRank1_2perNode)\n",
    "rank1Au.addRun(auRank1_4perNode)\n"
   ]
  },
  {
   "cell_type": "code",
   "execution_count": null,
   "metadata": {
    "collapsed": false
   },
   "outputs": [],
   "source": [
    "rank1Au.plotFunction(functions=['PWSCF'],orderBy='perNode', title='SGI Au 1rank')"
   ]
  },
  {
   "cell_type": "code",
   "execution_count": null,
   "metadata": {
    "collapsed": false
   },
   "outputs": [],
   "source": [
    "fig = plt.figure()\n",
    "ax = plt.subplot(111)\n",
    "\n",
    "rank1Au.plotFunction(functions=['PWSCF'],labels=['AU'],orderBy='perNode',axes=ax,figure=fig)\n",
    "rank1Co3.plotFunction(functions=['PWSCF'],labels=['Co3'],orderBy='perNode', title='SGI 1rank stress test',axes=ax,figure=fig)\n"
   ]
  },
  {
   "cell_type": "code",
   "execution_count": null,
   "metadata": {
    "collapsed": true
   },
   "outputs": [],
   "source": [
    " \n",
    "\n",
    "\n",
    "\n",
    "\n",
    "\n",
    "\n",
    "\n",
    "\n",
    "\n",
    "\n",
    "\n",
    "\n"
   ]
  },
  {
   "cell_type": "code",
   "execution_count": null,
   "metadata": {
    "collapsed": false
   },
   "outputs": [],
   "source": [
    "xp.plotFunction(functions=xp.getParentsToPlot(),ylog=True,ylogBase=2)"
   ]
  },
  {
   "cell_type": "code",
   "execution_count": null,
   "metadata": {
    "collapsed": false
   },
   "outputs": [],
   "source": []
  }
 ],
 "metadata": {
  "kernelspec": {
   "display_name": "Python 2",
   "language": "python",
   "name": "python2"
  },
  "language_info": {
   "codemirror_mode": {
    "name": "ipython",
    "version": 2
   },
   "file_extension": ".py",
   "mimetype": "text/x-python",
   "name": "python",
   "nbconvert_exporter": "python",
   "pygments_lexer": "ipython2",
   "version": "2.7.6"
  }
 },
 "nbformat": 4,
 "nbformat_minor": 0
}
